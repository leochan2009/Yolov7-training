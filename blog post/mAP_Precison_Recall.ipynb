{
 "cells": [
  {
   "cell_type": "code",
   "execution_count": 1,
   "id": "f278c995",
   "metadata": {},
   "outputs": [
    {
     "name": "stderr",
     "output_type": "stream",
     "text": [
      "C:\\Users\\endo\\anaconda3\\envs\\yolov7_custon\\lib\\site-packages\\tqdm\\auto.py:22: TqdmWarning: IProgress not found. Please update jupyter and ipywidgets. See https://ipywidgets.readthedocs.io/en/stable/user_install.html\n",
      "  from .autonotebook import tqdm as notebook_tqdm\n"
     ]
    }
   ],
   "source": [
    "import torch\n",
    "import torchvision"
   ]
  },
  {
   "cell_type": "code",
   "execution_count": 2,
   "id": "7c5cd01a",
   "metadata": {},
   "outputs": [
    {
     "name": "stdout",
     "output_type": "stream",
     "text": [
      "1.11.0+cu113\n",
      "0.12.0+cu113\n"
     ]
    }
   ],
   "source": [
    "print(torch.__version__)\n",
    "print(torchvision.__version__)"
   ]
  },
  {
   "cell_type": "code",
   "execution_count": 3,
   "id": "be0e9cf5",
   "metadata": {},
   "outputs": [],
   "source": [
    "# import matplotlib\n",
    "# matplotlib.use('TkAgg')"
   ]
  },
  {
   "cell_type": "code",
   "execution_count": 4,
   "id": "c3722e17",
   "metadata": {},
   "outputs": [],
   "source": [
    "import matplotlib.pyplot as plt"
   ]
  },
  {
   "cell_type": "code",
   "execution_count": 5,
   "id": "f60e9d0b-c375-423f-8999-d19841e98946",
   "metadata": {},
   "outputs": [],
   "source": [
    "%load_ext autoreload\n",
    "%autoreload 2"
   ]
  },
  {
   "cell_type": "code",
   "execution_count": 6,
   "id": "dbc8ec2d-144a-4b7c-96eb-e8f5c9021315",
   "metadata": {},
   "outputs": [],
   "source": [
    "import sys\n",
    "\n",
    "sys.path.append('..')\n",
    "sys.path.append('../examples')"
   ]
  },
  {
   "cell_type": "markdown",
   "id": "ca43c945-d45c-4b58-895f-9fd76775dc36",
   "metadata": {},
   "source": [
    "# Data Loading"
   ]
  },
  {
   "cell_type": "markdown",
   "id": "8eebd293-e06f-4fa5-a0a0-0fe93a0d0b80",
   "metadata": {},
   "source": [
    "First, let's take a look at how to load our dataset in the format that Yolov7 expects."
   ]
  },
  {
   "cell_type": "markdown",
   "id": "f2cae8d4",
   "metadata": {},
   "source": [
    "## Selecting a dataset"
   ]
  },
  {
   "cell_type": "markdown",
   "id": "fedbfefe-6c3c-4f13-b6a8-9b7230d94669",
   "metadata": {},
   "source": [
    "Throughout this article, we shall use the [Kaggle cars object detection dataset](https://www.kaggle.com/datasets/sshikamaru/car-object-detection); however, as our aim is to demonstrate how Yolov7 can be applied to any problem, this is really the least important part of this work. Additionally, as the images are quite similar to COCO, it will enable us to experiment with a pretrained model before we do any training.\n"
   ]
  },
  {
   "cell_type": "code",
   "execution_count": 7,
   "id": "984e66b0",
   "metadata": {},
   "outputs": [],
   "source": [
    "from pathlib import Path\n",
    "import os\n",
    "import pandas as pd"
   ]
  },
  {
   "cell_type": "code",
   "execution_count": 8,
   "id": "90dabcc5",
   "metadata": {},
   "outputs": [],
   "source": [
    "data_path = \"../data/papilla\"\n",
    "data_path = Path(data_path)\n",
    "images_path = data_path / \"all_images\"\n",
    "annotations_file_path = data_path / \"annotations_final.csv\""
   ]
  },
  {
   "cell_type": "markdown",
   "id": "a5a95386",
   "metadata": {},
   "source": [
    "The annotations for this dataset are in the form of a .csv file, which associates the image name with the corresponding annotations; where each row represents one bounding box. Whilst there are around 1000 images in the training set, only those with annotations are included in this file. \n",
    "\n",
    "We can view the format of this by loading it into a pandas DataFrame. "
   ]
  },
  {
   "cell_type": "code",
   "execution_count": 9,
   "id": "87fa5ee5-7bf3-4ba6-8f9a-2678418665a9",
   "metadata": {},
   "outputs": [],
   "source": [
    "df= pd.read_csv(annotations_file_path).drop(columns='Unnamed: 0')"
   ]
  },
  {
   "cell_type": "code",
   "execution_count": 10,
   "id": "26d641af",
   "metadata": {},
   "outputs": [
    {
     "data": {
      "text/html": [
       "<div>\n",
       "<style scoped>\n",
       "    .dataframe tbody tr th:only-of-type {\n",
       "        vertical-align: middle;\n",
       "    }\n",
       "\n",
       "    .dataframe tbody tr th {\n",
       "        vertical-align: top;\n",
       "    }\n",
       "\n",
       "    .dataframe thead th {\n",
       "        text-align: right;\n",
       "    }\n",
       "</style>\n",
       "<table border=\"1\" class=\"dataframe\">\n",
       "  <thead>\n",
       "    <tr style=\"text-align: right;\">\n",
       "      <th></th>\n",
       "      <th>image</th>\n",
       "      <th>xmin</th>\n",
       "      <th>ymin</th>\n",
       "      <th>xmax</th>\n",
       "      <th>ymax</th>\n",
       "      <th>class_name</th>\n",
       "      <th>has_annotation</th>\n",
       "      <th>image_id</th>\n",
       "      <th>class_id</th>\n",
       "    </tr>\n",
       "  </thead>\n",
       "  <tbody>\n",
       "    <tr>\n",
       "      <th>0</th>\n",
       "      <td>0104G2021-03-24-15h05m37s184.png</td>\n",
       "      <td>634.0</td>\n",
       "      <td>173.0</td>\n",
       "      <td>1068.0</td>\n",
       "      <td>576.0</td>\n",
       "      <td>papilla</td>\n",
       "      <td>True</td>\n",
       "      <td>226272</td>\n",
       "      <td>0.0</td>\n",
       "    </tr>\n",
       "    <tr>\n",
       "      <th>1</th>\n",
       "      <td>0104G2021-03-24-15h05m38s864.png</td>\n",
       "      <td>616.0</td>\n",
       "      <td>177.0</td>\n",
       "      <td>1068.0</td>\n",
       "      <td>580.0</td>\n",
       "      <td>papilla</td>\n",
       "      <td>True</td>\n",
       "      <td>226273</td>\n",
       "      <td>0.0</td>\n",
       "    </tr>\n",
       "    <tr>\n",
       "      <th>2</th>\n",
       "      <td>0104G2021-03-24-15h05m33s582.png</td>\n",
       "      <td>689.0</td>\n",
       "      <td>131.0</td>\n",
       "      <td>1107.0</td>\n",
       "      <td>494.0</td>\n",
       "      <td>papilla</td>\n",
       "      <td>True</td>\n",
       "      <td>226274</td>\n",
       "      <td>0.0</td>\n",
       "    </tr>\n",
       "    <tr>\n",
       "      <th>3</th>\n",
       "      <td>0104G2021-03-24-15h05m35s099.png</td>\n",
       "      <td>718.0</td>\n",
       "      <td>120.0</td>\n",
       "      <td>1056.0</td>\n",
       "      <td>481.0</td>\n",
       "      <td>papilla</td>\n",
       "      <td>True</td>\n",
       "      <td>226275</td>\n",
       "      <td>0.0</td>\n",
       "    </tr>\n",
       "    <tr>\n",
       "      <th>4</th>\n",
       "      <td>0104G2021-03-24-15h05m32s249.png</td>\n",
       "      <td>703.0</td>\n",
       "      <td>126.0</td>\n",
       "      <td>1122.0</td>\n",
       "      <td>497.0</td>\n",
       "      <td>papilla</td>\n",
       "      <td>True</td>\n",
       "      <td>226276</td>\n",
       "      <td>0.0</td>\n",
       "    </tr>\n",
       "    <tr>\n",
       "      <th>...</th>\n",
       "      <td>...</td>\n",
       "      <td>...</td>\n",
       "      <td>...</td>\n",
       "      <td>...</td>\n",
       "      <td>...</td>\n",
       "      <td>...</td>\n",
       "      <td>...</td>\n",
       "      <td>...</td>\n",
       "      <td>...</td>\n",
       "    </tr>\n",
       "    <tr>\n",
       "      <th>1034</th>\n",
       "      <td>00953G00827.png</td>\n",
       "      <td>801.0</td>\n",
       "      <td>76.0</td>\n",
       "      <td>1119.0</td>\n",
       "      <td>324.0</td>\n",
       "      <td>papilla</td>\n",
       "      <td>True</td>\n",
       "      <td>227100</td>\n",
       "      <td>0.0</td>\n",
       "    </tr>\n",
       "    <tr>\n",
       "      <th>1035</th>\n",
       "      <td>00953G00822.png</td>\n",
       "      <td>601.0</td>\n",
       "      <td>59.0</td>\n",
       "      <td>1025.0</td>\n",
       "      <td>318.0</td>\n",
       "      <td>papilla</td>\n",
       "      <td>True</td>\n",
       "      <td>227101</td>\n",
       "      <td>0.0</td>\n",
       "    </tr>\n",
       "    <tr>\n",
       "      <th>1036</th>\n",
       "      <td>00953G00829.png</td>\n",
       "      <td>856.0</td>\n",
       "      <td>102.0</td>\n",
       "      <td>1118.0</td>\n",
       "      <td>298.0</td>\n",
       "      <td>papilla</td>\n",
       "      <td>True</td>\n",
       "      <td>227102</td>\n",
       "      <td>0.0</td>\n",
       "    </tr>\n",
       "    <tr>\n",
       "      <th>1037</th>\n",
       "      <td>00953G00819.png</td>\n",
       "      <td>649.0</td>\n",
       "      <td>58.0</td>\n",
       "      <td>1024.0</td>\n",
       "      <td>244.0</td>\n",
       "      <td>papilla</td>\n",
       "      <td>True</td>\n",
       "      <td>227104</td>\n",
       "      <td>0.0</td>\n",
       "    </tr>\n",
       "    <tr>\n",
       "      <th>1038</th>\n",
       "      <td>00953G00828.png</td>\n",
       "      <td>890.0</td>\n",
       "      <td>52.0</td>\n",
       "      <td>1116.0</td>\n",
       "      <td>198.0</td>\n",
       "      <td>papilla</td>\n",
       "      <td>True</td>\n",
       "      <td>227103</td>\n",
       "      <td>0.0</td>\n",
       "    </tr>\n",
       "  </tbody>\n",
       "</table>\n",
       "<p>1039 rows × 9 columns</p>\n",
       "</div>"
      ],
      "text/plain": [
       "                                 image   xmin   ymin    xmax   ymax  \\\n",
       "0     0104G2021-03-24-15h05m37s184.png  634.0  173.0  1068.0  576.0   \n",
       "1     0104G2021-03-24-15h05m38s864.png  616.0  177.0  1068.0  580.0   \n",
       "2     0104G2021-03-24-15h05m33s582.png  689.0  131.0  1107.0  494.0   \n",
       "3     0104G2021-03-24-15h05m35s099.png  718.0  120.0  1056.0  481.0   \n",
       "4     0104G2021-03-24-15h05m32s249.png  703.0  126.0  1122.0  497.0   \n",
       "...                                ...    ...    ...     ...    ...   \n",
       "1034                   00953G00827.png  801.0   76.0  1119.0  324.0   \n",
       "1035                   00953G00822.png  601.0   59.0  1025.0  318.0   \n",
       "1036                   00953G00829.png  856.0  102.0  1118.0  298.0   \n",
       "1037                   00953G00819.png  649.0   58.0  1024.0  244.0   \n",
       "1038                   00953G00828.png  890.0   52.0  1116.0  198.0   \n",
       "\n",
       "     class_name  has_annotation  image_id  class_id  \n",
       "0       papilla            True    226272       0.0  \n",
       "1       papilla            True    226273       0.0  \n",
       "2       papilla            True    226274       0.0  \n",
       "3       papilla            True    226275       0.0  \n",
       "4       papilla            True    226276       0.0  \n",
       "...         ...             ...       ...       ...  \n",
       "1034    papilla            True    227100       0.0  \n",
       "1035    papilla            True    227101       0.0  \n",
       "1036    papilla            True    227102       0.0  \n",
       "1037    papilla            True    227104       0.0  \n",
       "1038    papilla            True    227103       0.0  \n",
       "\n",
       "[1039 rows x 9 columns]"
      ]
     },
     "execution_count": 10,
     "metadata": {},
     "output_type": "execute_result"
    }
   ],
   "source": [
    "df"
   ]
  },
  {
   "cell_type": "markdown",
   "id": "aad1c2a8-0115-4c47-8eec-997f5f9e34e6",
   "metadata": {},
   "source": [
    "As it is not usually the case that all images in our dataset contain instances of the objects that we are trying to detect, we would also like to include some images that do not contain cars. To do this, we can define a function to load the annotations which also includes 100 'negative' images. Additionally, as the designated test set is unlabelled, let's randomly take 20% of these images to use as our validation set. "
   ]
  },
  {
   "cell_type": "code",
   "execution_count": 11,
   "id": "9149fc6c",
   "metadata": {},
   "outputs": [],
   "source": [
    "import pandas as pd\n",
    "import random\n",
    "\n",
    "def load_cars_df(annotations_file_path, images_path):\n",
    "    # all_images = sorted(set([p.parts[-1] for p in images_path.iterdir()]))\n",
    "    image_id_to_image = {i: im for i, im in zip(df.image_id, df.image)}\n",
    "    image_to_image_id = {v: k for k, v, in image_id_to_image.items()}\n",
    "    \n",
    "    class_id_to_label = dict(\n",
    "        enumerate(df.query(\"has_annotation == True\").class_name.unique())\n",
    "    )\n",
    "    class_label_to_id = {v: k for k, v in class_id_to_label.items()}\n",
    "\n",
    "    from sklearn.model_selection import train_test_split\n",
    "    # first, split into X_train, X_valid_test, y_train, y_valid_test\n",
    "    # `test_size=0.3` split into 70% and 30%\n",
    "    train_df, valid_test_df = train_test_split(df, test_size=0.3, random_state=42)\n",
    "\n",
    "    # second, split into X_valid, X_test, y_valid, y_test\n",
    "    # `test_size=0.5` split into 50% and 50%. The original data set is 30%,\n",
    "    # so, it will split into 15% equally.\n",
    "    valid_df, test_df = train_test_split(valid_test_df, test_size=0.5, random_state=42)\n",
    "\n",
    "\n",
    "    \n",
    "    lookups = {\n",
    "        \"image_id_to_image\": image_id_to_image,\n",
    "        \"image_to_image_id\": image_to_image_id,\n",
    "        \"class_id_to_label\": class_id_to_label,\n",
    "        \"class_label_to_id\": class_label_to_id,\n",
    "    }\n",
    "    return train_df, valid_df, test_df, lookups"
   ]
  },
  {
   "cell_type": "markdown",
   "id": "c87f2f4e-983b-4b70-b289-2beb8059d21a",
   "metadata": {},
   "source": [
    "We can now use this function to load our data:"
   ]
  },
  {
   "cell_type": "code",
   "execution_count": 12,
   "id": "6c95ba5f",
   "metadata": {},
   "outputs": [],
   "source": [
    "train_df, valid_df, test_df, lookups = load_cars_df(annotations_file_path, images_path)"
   ]
  },
  {
   "cell_type": "code",
   "execution_count": 13,
   "id": "045ee0c0",
   "metadata": {},
   "outputs": [
    {
     "data": {
      "text/html": [
       "<div>\n",
       "<style scoped>\n",
       "    .dataframe tbody tr th:only-of-type {\n",
       "        vertical-align: middle;\n",
       "    }\n",
       "\n",
       "    .dataframe tbody tr th {\n",
       "        vertical-align: top;\n",
       "    }\n",
       "\n",
       "    .dataframe thead th {\n",
       "        text-align: right;\n",
       "    }\n",
       "</style>\n",
       "<table border=\"1\" class=\"dataframe\">\n",
       "  <thead>\n",
       "    <tr style=\"text-align: right;\">\n",
       "      <th></th>\n",
       "      <th>image</th>\n",
       "      <th>xmin</th>\n",
       "      <th>ymin</th>\n",
       "      <th>xmax</th>\n",
       "      <th>ymax</th>\n",
       "      <th>class_name</th>\n",
       "      <th>has_annotation</th>\n",
       "      <th>image_id</th>\n",
       "      <th>class_id</th>\n",
       "    </tr>\n",
       "  </thead>\n",
       "  <tbody>\n",
       "    <tr>\n",
       "      <th>118</th>\n",
       "      <td>0104G2021-03-24-15h10m49s388.png</td>\n",
       "      <td>561.0</td>\n",
       "      <td>320.0</td>\n",
       "      <td>900.0</td>\n",
       "      <td>581.0</td>\n",
       "      <td>papilla</td>\n",
       "      <td>True</td>\n",
       "      <td>226389</td>\n",
       "      <td>0.0</td>\n",
       "    </tr>\n",
       "    <tr>\n",
       "      <th>914</th>\n",
       "      <td>00953G00709.png</td>\n",
       "      <td>701.0</td>\n",
       "      <td>105.0</td>\n",
       "      <td>1004.0</td>\n",
       "      <td>564.0</td>\n",
       "      <td>papilla</td>\n",
       "      <td>True</td>\n",
       "      <td>226984</td>\n",
       "      <td>0.0</td>\n",
       "    </tr>\n",
       "    <tr>\n",
       "      <th>250</th>\n",
       "      <td>0104G09661.png</td>\n",
       "      <td>580.0</td>\n",
       "      <td>48.0</td>\n",
       "      <td>1112.0</td>\n",
       "      <td>526.0</td>\n",
       "      <td>papilla</td>\n",
       "      <td>True</td>\n",
       "      <td>226522</td>\n",
       "      <td>0.0</td>\n",
       "    </tr>\n",
       "    <tr>\n",
       "      <th>390</th>\n",
       "      <td>0305G2021-03-24-15h22m13s740.png</td>\n",
       "      <td>551.0</td>\n",
       "      <td>262.0</td>\n",
       "      <td>1118.0</td>\n",
       "      <td>680.0</td>\n",
       "      <td>papilla</td>\n",
       "      <td>True</td>\n",
       "      <td>226662</td>\n",
       "      <td>0.0</td>\n",
       "    </tr>\n",
       "    <tr>\n",
       "      <th>827</th>\n",
       "      <td>00011.jpg</td>\n",
       "      <td>NaN</td>\n",
       "      <td>NaN</td>\n",
       "      <td>NaN</td>\n",
       "      <td>NaN</td>\n",
       "      <td>background</td>\n",
       "      <td>False</td>\n",
       "      <td>243877</td>\n",
       "      <td>NaN</td>\n",
       "    </tr>\n",
       "  </tbody>\n",
       "</table>\n",
       "</div>"
      ],
      "text/plain": [
       "                                image   xmin   ymin    xmax   ymax  \\\n",
       "118  0104G2021-03-24-15h10m49s388.png  561.0  320.0   900.0  581.0   \n",
       "914                   00953G00709.png  701.0  105.0  1004.0  564.0   \n",
       "250                    0104G09661.png  580.0   48.0  1112.0  526.0   \n",
       "390  0305G2021-03-24-15h22m13s740.png  551.0  262.0  1118.0  680.0   \n",
       "827                         00011.jpg    NaN    NaN     NaN    NaN   \n",
       "\n",
       "     class_name  has_annotation  image_id  class_id  \n",
       "118     papilla            True    226389       0.0  \n",
       "914     papilla            True    226984       0.0  \n",
       "250     papilla            True    226522       0.0  \n",
       "390     papilla            True    226662       0.0  \n",
       "827  background           False    243877       NaN  "
      ]
     },
     "execution_count": 13,
     "metadata": {},
     "output_type": "execute_result"
    }
   ],
   "source": [
    "train_df.head()"
   ]
  },
  {
   "cell_type": "code",
   "execution_count": 14,
   "id": "d545b70a",
   "metadata": {},
   "outputs": [
    {
     "data": {
      "text/html": [
       "<div>\n",
       "<style scoped>\n",
       "    .dataframe tbody tr th:only-of-type {\n",
       "        vertical-align: middle;\n",
       "    }\n",
       "\n",
       "    .dataframe tbody tr th {\n",
       "        vertical-align: top;\n",
       "    }\n",
       "\n",
       "    .dataframe thead th {\n",
       "        text-align: right;\n",
       "    }\n",
       "</style>\n",
       "<table border=\"1\" class=\"dataframe\">\n",
       "  <thead>\n",
       "    <tr style=\"text-align: right;\">\n",
       "      <th></th>\n",
       "      <th>image</th>\n",
       "      <th>xmin</th>\n",
       "      <th>ymin</th>\n",
       "      <th>xmax</th>\n",
       "      <th>ymax</th>\n",
       "      <th>class_name</th>\n",
       "      <th>has_annotation</th>\n",
       "      <th>image_id</th>\n",
       "      <th>class_id</th>\n",
       "    </tr>\n",
       "  </thead>\n",
       "  <tbody>\n",
       "    <tr>\n",
       "      <th>760</th>\n",
       "      <td>0104G2021-03-24-14h59m28s244.png</td>\n",
       "      <td>768.0</td>\n",
       "      <td>154.0</td>\n",
       "      <td>978.0</td>\n",
       "      <td>532.0</td>\n",
       "      <td>papilla</td>\n",
       "      <td>True</td>\n",
       "      <td>227236</td>\n",
       "      <td>0.0</td>\n",
       "    </tr>\n",
       "    <tr>\n",
       "      <th>139</th>\n",
       "      <td>0104G2021-03-24-15h12m07s678.png</td>\n",
       "      <td>772.0</td>\n",
       "      <td>41.0</td>\n",
       "      <td>979.0</td>\n",
       "      <td>271.0</td>\n",
       "      <td>papilla</td>\n",
       "      <td>True</td>\n",
       "      <td>226411</td>\n",
       "      <td>0.0</td>\n",
       "    </tr>\n",
       "    <tr>\n",
       "      <th>688</th>\n",
       "      <td>0104G2021-03-24-14h55m23s665.png</td>\n",
       "      <td>642.0</td>\n",
       "      <td>189.0</td>\n",
       "      <td>920.0</td>\n",
       "      <td>457.0</td>\n",
       "      <td>papilla</td>\n",
       "      <td>True</td>\n",
       "      <td>227164</td>\n",
       "      <td>0.0</td>\n",
       "    </tr>\n",
       "    <tr>\n",
       "      <th>1004</th>\n",
       "      <td>00953G00795.png</td>\n",
       "      <td>NaN</td>\n",
       "      <td>NaN</td>\n",
       "      <td>NaN</td>\n",
       "      <td>NaN</td>\n",
       "      <td>background</td>\n",
       "      <td>False</td>\n",
       "      <td>227070</td>\n",
       "      <td>NaN</td>\n",
       "    </tr>\n",
       "    <tr>\n",
       "      <th>538</th>\n",
       "      <td>0305G2021-03-24-15h35m27s941.png</td>\n",
       "      <td>604.0</td>\n",
       "      <td>44.0</td>\n",
       "      <td>1120.0</td>\n",
       "      <td>336.0</td>\n",
       "      <td>papilla</td>\n",
       "      <td>True</td>\n",
       "      <td>226810</td>\n",
       "      <td>0.0</td>\n",
       "    </tr>\n",
       "  </tbody>\n",
       "</table>\n",
       "</div>"
      ],
      "text/plain": [
       "                                 image   xmin   ymin    xmax   ymax  \\\n",
       "760   0104G2021-03-24-14h59m28s244.png  768.0  154.0   978.0  532.0   \n",
       "139   0104G2021-03-24-15h12m07s678.png  772.0   41.0   979.0  271.0   \n",
       "688   0104G2021-03-24-14h55m23s665.png  642.0  189.0   920.0  457.0   \n",
       "1004                   00953G00795.png    NaN    NaN     NaN    NaN   \n",
       "538   0305G2021-03-24-15h35m27s941.png  604.0   44.0  1120.0  336.0   \n",
       "\n",
       "      class_name  has_annotation  image_id  class_id  \n",
       "760      papilla            True    227236       0.0  \n",
       "139      papilla            True    226411       0.0  \n",
       "688      papilla            True    227164       0.0  \n",
       "1004  background           False    227070       NaN  \n",
       "538      papilla            True    226810       0.0  "
      ]
     },
     "execution_count": 14,
     "metadata": {},
     "output_type": "execute_result"
    }
   ],
   "source": [
    "valid_df.head()"
   ]
  },
  {
   "cell_type": "code",
   "execution_count": 15,
   "id": "b8fdbb76",
   "metadata": {},
   "outputs": [
    {
     "data": {
      "text/html": [
       "<div>\n",
       "<style scoped>\n",
       "    .dataframe tbody tr th:only-of-type {\n",
       "        vertical-align: middle;\n",
       "    }\n",
       "\n",
       "    .dataframe tbody tr th {\n",
       "        vertical-align: top;\n",
       "    }\n",
       "\n",
       "    .dataframe thead th {\n",
       "        text-align: right;\n",
       "    }\n",
       "</style>\n",
       "<table border=\"1\" class=\"dataframe\">\n",
       "  <thead>\n",
       "    <tr style=\"text-align: right;\">\n",
       "      <th></th>\n",
       "      <th>image</th>\n",
       "      <th>xmin</th>\n",
       "      <th>ymin</th>\n",
       "      <th>xmax</th>\n",
       "      <th>ymax</th>\n",
       "      <th>class_name</th>\n",
       "      <th>has_annotation</th>\n",
       "      <th>image_id</th>\n",
       "      <th>class_id</th>\n",
       "    </tr>\n",
       "  </thead>\n",
       "  <tbody>\n",
       "    <tr>\n",
       "      <th>485</th>\n",
       "      <td>0305G2021-03-24-15h30m45s167.png</td>\n",
       "      <td>NaN</td>\n",
       "      <td>NaN</td>\n",
       "      <td>NaN</td>\n",
       "      <td>NaN</td>\n",
       "      <td>background</td>\n",
       "      <td>False</td>\n",
       "      <td>226757</td>\n",
       "      <td>NaN</td>\n",
       "    </tr>\n",
       "    <tr>\n",
       "      <th>1034</th>\n",
       "      <td>00953G00827.png</td>\n",
       "      <td>801.0</td>\n",
       "      <td>76.0</td>\n",
       "      <td>1119.0</td>\n",
       "      <td>324.0</td>\n",
       "      <td>papilla</td>\n",
       "      <td>True</td>\n",
       "      <td>227100</td>\n",
       "      <td>0.0</td>\n",
       "    </tr>\n",
       "    <tr>\n",
       "      <th>643</th>\n",
       "      <td>0104G2021-03-24-14h53m26s950.png</td>\n",
       "      <td>705.0</td>\n",
       "      <td>456.0</td>\n",
       "      <td>983.0</td>\n",
       "      <td>630.0</td>\n",
       "      <td>papilla</td>\n",
       "      <td>True</td>\n",
       "      <td>227119</td>\n",
       "      <td>0.0</td>\n",
       "    </tr>\n",
       "    <tr>\n",
       "      <th>665</th>\n",
       "      <td>0104G2021-03-24-14h54m21s113.png</td>\n",
       "      <td>624.0</td>\n",
       "      <td>160.0</td>\n",
       "      <td>1073.0</td>\n",
       "      <td>541.0</td>\n",
       "      <td>papilla</td>\n",
       "      <td>True</td>\n",
       "      <td>227141</td>\n",
       "      <td>0.0</td>\n",
       "    </tr>\n",
       "    <tr>\n",
       "      <th>1036</th>\n",
       "      <td>00953G00829.png</td>\n",
       "      <td>856.0</td>\n",
       "      <td>102.0</td>\n",
       "      <td>1118.0</td>\n",
       "      <td>298.0</td>\n",
       "      <td>papilla</td>\n",
       "      <td>True</td>\n",
       "      <td>227102</td>\n",
       "      <td>0.0</td>\n",
       "    </tr>\n",
       "  </tbody>\n",
       "</table>\n",
       "</div>"
      ],
      "text/plain": [
       "                                 image   xmin   ymin    xmax   ymax  \\\n",
       "485   0305G2021-03-24-15h30m45s167.png    NaN    NaN     NaN    NaN   \n",
       "1034                   00953G00827.png  801.0   76.0  1119.0  324.0   \n",
       "643   0104G2021-03-24-14h53m26s950.png  705.0  456.0   983.0  630.0   \n",
       "665   0104G2021-03-24-14h54m21s113.png  624.0  160.0  1073.0  541.0   \n",
       "1036                   00953G00829.png  856.0  102.0  1118.0  298.0   \n",
       "\n",
       "      class_name  has_annotation  image_id  class_id  \n",
       "485   background           False    226757       NaN  \n",
       "1034     papilla            True    227100       0.0  \n",
       "643      papilla            True    227119       0.0  \n",
       "665      papilla            True    227141       0.0  \n",
       "1036     papilla            True    227102       0.0  "
      ]
     },
     "execution_count": 15,
     "metadata": {},
     "output_type": "execute_result"
    }
   ],
   "source": [
    "test_df.head()"
   ]
  },
  {
   "cell_type": "code",
   "execution_count": 16,
   "id": "14bbd01e",
   "metadata": {},
   "outputs": [
    {
     "name": "stdout",
     "output_type": "stream",
     "text": [
      "727 156 156\n"
     ]
    }
   ],
   "source": [
    "print(train_df.image.nunique(), valid_df.image.nunique(), test_df.image.nunique())"
   ]
  },
  {
   "cell_type": "code",
   "execution_count": 17,
   "id": "9957044f",
   "metadata": {},
   "outputs": [],
   "source": [
    "# Splitting Validation into Val and Test"
   ]
  },
  {
   "cell_type": "markdown",
   "id": "cda55829-04a3-4a64-8f4b-15561c1485dd",
   "metadata": {},
   "source": [
    "To make it easier to associate predictions with an image, we have assigned each image a unique id; in this case it is just an incrementing integer count. Additionally, we have added an integer value to represent the classes that we want to detect, which is a single class - 'car' - in this case.\n",
    "\n",
    "Generally, object detection models reserve `0` as the background class, so class labels should start from `1`. This is **not** the case for Yolov7, so we start our class encoding from `0`. For images that do not contain a car, we do not require a class id. We can confirm that this is the case by inspecting the lookups returned by our function."
   ]
  },
  {
   "cell_type": "code",
   "execution_count": 18,
   "id": "163741fe-fa70-4b75-9e00-0acf9772250d",
   "metadata": {},
   "outputs": [
    {
     "data": {
      "text/plain": [
       "dict_keys(['image_id_to_image', 'image_to_image_id', 'class_id_to_label', 'class_label_to_id'])"
      ]
     },
     "execution_count": 18,
     "metadata": {},
     "output_type": "execute_result"
    }
   ],
   "source": [
    "lookups.keys()"
   ]
  },
  {
   "cell_type": "code",
   "execution_count": 19,
   "id": "833892c8-a792-461a-b73e-506a71f5c9f1",
   "metadata": {},
   "outputs": [
    {
     "data": {
      "text/plain": [
       "({'papilla': 0}, {0: 'papilla'})"
      ]
     },
     "execution_count": 19,
     "metadata": {},
     "output_type": "execute_result"
    }
   ],
   "source": [
    "lookups['class_label_to_id'], lookups['class_id_to_label']"
   ]
  },
  {
   "cell_type": "markdown",
   "id": "c37a5bbf-55af-4be7-beff-c35168264306",
   "metadata": {},
   "source": [
    "Finally, let's see the number of images in each class for our training and validation sets. As an image can have multiple annotations, we need to make sure that we account for this when calculating our counts:"
   ]
  },
  {
   "cell_type": "code",
   "execution_count": 20,
   "id": "ba3be48e-aa09-482a-b9e5-9ea99a62da2d",
   "metadata": {},
   "outputs": [
    {
     "name": "stdout",
     "output_type": "stream",
     "text": [
      "Num. annotated images in training set: 662\n",
      "Num. Background images in training set: 65\n",
      "Total Num. images in training set: 727\n",
      "------------\n",
      "Num. annotated images in validation set: 138\n",
      "Num. Background images in validation set: 18\n",
      "Total Num. images in validation set: 156\n"
     ]
    }
   ],
   "source": [
    "print(f\"Num. annotated images in training set: {len(train_df.query('has_annotation == True').image.unique())}\")\n",
    "print(f\"Num. Background images in training set: {len(train_df.query('has_annotation == False').image.unique())}\")\n",
    "print(f\"Total Num. images in training set: {len(train_df.image.unique())}\")\n",
    "print('------------')\n",
    "\n",
    "print(f\"Num. annotated images in validation set: {len(valid_df.query('has_annotation == True').image.unique())}\")\n",
    "print(f\"Num. Background images in validation set: {len(valid_df.query('has_annotation == False').image.unique())}\")\n",
    "print(f\"Total Num. images in validation set: {len(valid_df.image.unique())}\")"
   ]
  },
  {
   "cell_type": "markdown",
   "id": "42ffa5b8",
   "metadata": {},
   "source": [
    "## Create a Dataset Adaptor"
   ]
  },
  {
   "cell_type": "markdown",
   "id": "706d1d56",
   "metadata": {},
   "source": [
    "Usually, at this point, we would create a PyTorch dataset specific to the model that we shall be training. \n",
    "\n",
    "However, we often use the pattern of first creating a dataset 'adaptor' class, with the sole responsibility of wrapping the underlying data sources and loading this appropriately. This way, we can easily switch out adaptors when using different datasets, without changing any pre-processing logic which is specific to the model that we are training.\n",
    "\n",
    "Therefore, let’s focus for now on creating a `CarsDatasetAdaptor` class, which converts the specific raw dataset format into an image and corresponding annotations. Additionally, let's load the image id that we assigned, as well as the height and width of our image, as they may be useful to us later on.\n",
    "\n",
    "An implementation of this is presented below:"
   ]
  },
  {
   "cell_type": "code",
   "execution_count": 21,
   "id": "09cb9e74-6a8c-4bb3-88da-adc70ab8db22",
   "metadata": {},
   "outputs": [
    {
     "name": "stderr",
     "output_type": "stream",
     "text": [
      "INFO:pytorch_accelerated:Setting random seeds\n"
     ]
    }
   ],
   "source": [
    "from train_cars import CarsDatasetAdaptor"
   ]
  },
  {
   "cell_type": "markdown",
   "id": "13850f79-55ed-4f32-b1f8-cd8e4cf8b2cb",
   "metadata": {},
   "source": [
    "Notice that, for our background images, we are just returning an empty array for our bounding boxes and class ids."
   ]
  },
  {
   "cell_type": "markdown",
   "id": "4a4e033c-58d0-4fb7-a365-c266918eb481",
   "metadata": {},
   "source": [
    "Using this, we can confirm that the length of our dataset is the same as the total number of training images that we calculated earlier."
   ]
  },
  {
   "cell_type": "code",
   "execution_count": 22,
   "id": "1f825aa7",
   "metadata": {},
   "outputs": [],
   "source": [
    "train_ds = CarsDatasetAdaptor(images_path, train_df)\n",
    "valid_ds= CarsDatasetAdaptor(images_path, valid_df)\n",
    "test_ds= CarsDatasetAdaptor(images_path, test_df)"
   ]
  },
  {
   "cell_type": "code",
   "execution_count": 23,
   "id": "dd22bea6",
   "metadata": {},
   "outputs": [
    {
     "data": {
      "text/plain": [
       "<train_cars.CarsDatasetAdaptor at 0x2100ac20e20>"
      ]
     },
     "execution_count": 23,
     "metadata": {},
     "output_type": "execute_result"
    }
   ],
   "source": [
    "train_ds"
   ]
  },
  {
   "cell_type": "markdown",
   "id": "93645547-98a9-4f89-baf4-0ec8bdb7f2c8",
   "metadata": {},
   "source": [
    "Now, we can use this to visualise some of our images, as demonstrated below."
   ]
  },
  {
   "cell_type": "code",
   "execution_count": 24,
   "id": "b4a43a0d-3c4f-4ab7-883e-faaf599309a8",
   "metadata": {},
   "outputs": [],
   "source": [
    "from yolov7.plotting import show_image"
   ]
  },
  {
   "cell_type": "markdown",
   "id": "8a6ba518-4b35-4ca6-b279-fccac0956ee4",
   "metadata": {},
   "source": [
    "Let's wrap our data adaptor using this dataset and inspect some of the outputs:"
   ]
  },
  {
   "cell_type": "markdown",
   "id": "c894d9c4",
   "metadata": {},
   "source": [
    "### Transforms"
   ]
  },
  {
   "cell_type": "code",
   "execution_count": 25,
   "id": "aaf1bf38",
   "metadata": {},
   "outputs": [],
   "source": [
    "from yolov7.dataset import Yolov7Dataset\n",
    "from yolov7.dataset import create_yolov7_transforms"
   ]
  },
  {
   "cell_type": "code",
   "execution_count": 26,
   "id": "6e17b344",
   "metadata": {},
   "outputs": [],
   "source": [
    "target_image_size = 640"
   ]
  },
  {
   "cell_type": "code",
   "execution_count": 27,
   "id": "6e502980",
   "metadata": {},
   "outputs": [],
   "source": [
    "train_yds = Yolov7Dataset(train_ds, transforms=create_yolov7_transforms(image_size=(target_image_size, target_image_size)))\n",
    "eval_yds= Yolov7Dataset(valid_ds, transforms=create_yolov7_transforms(image_size=(target_image_size, target_image_size)))\n",
    "test_yds= Yolov7Dataset(test_ds, transforms=create_yolov7_transforms(image_size=(target_image_size, target_image_size)))"
   ]
  },
  {
   "cell_type": "markdown",
   "id": "1c621dbe-d72a-4a4b-a607-ebd3f7210a69",
   "metadata": {},
   "source": [
    "Using these transforms, we can see that our image has been resized to our target size and padding has been applied. The reason that padding is used is so that we can maintain the aspect ratio of the objects in the images, but have a common size for images in our dataset; enabling us to batch them efficiently!"
   ]
  },
  {
   "cell_type": "markdown",
   "id": "03dd71b8",
   "metadata": {},
   "source": [
    "### Run Training"
   ]
  },
  {
   "cell_type": "code",
   "execution_count": 28,
   "id": "c1858ebc-fd61-4a64-9e53-127bf52d1170",
   "metadata": {},
   "outputs": [],
   "source": [
    "from yolov7.trainer import Yolov7Trainer"
   ]
  },
  {
   "cell_type": "code",
   "execution_count": 29,
   "id": "6de303f7",
   "metadata": {},
   "outputs": [
    {
     "name": "stdout",
     "output_type": "stream",
     "text": [
      "C:\\Users\\endo\\Desktop\\Yolov7-training-main\\Yolov7-training-main\\examples\n"
     ]
    }
   ],
   "source": [
    "%cd \"C:\\Users\\endo\\Desktop\\Yolov7-training-main\\Yolov7-training-main\\examples\\\""
   ]
  },
  {
   "cell_type": "code",
   "execution_count": 30,
   "id": "598f7267",
   "metadata": {},
   "outputs": [],
   "source": [
    "import os\n",
    "import random\n",
    "from functools import partial\n",
    "from pathlib import Path\n",
    "\n",
    "import numpy as np\n",
    "import pandas as pd\n",
    "import torch\n",
    "from func_to_script import script\n",
    "from PIL import Image\n",
    "from pytorch_accelerated.callbacks import (\n",
    "    EarlyStoppingCallback,\n",
    "    SaveBestModelCallback,\n",
    "    get_default_callbacks,\n",
    ")\n",
    "from pytorch_accelerated.schedulers import CosineLrScheduler\n",
    "from torch.utils.data import Dataset\n",
    "\n",
    "from yolov7 import create_yolov7_model\n",
    "from yolov7.dataset import Yolov7Dataset, create_yolov7_transforms, yolov7_collate_fn\n",
    "from yolov7.evaluation import CalculateMeanAveragePrecisionCallback\n",
    "from yolov7.loss_factory import create_yolov7_loss\n",
    "from yolov7.trainer import Yolov7Trainer, filter_eval_predictions"
   ]
  },
  {
   "cell_type": "code",
   "execution_count": 31,
   "id": "c1ed4cf0",
   "metadata": {},
   "outputs": [
    {
     "name": "stdout",
     "output_type": "stream",
     "text": [
      "Transferred 555/566 items from https://github.com/Chris-hughes10/Yolov7-training/releases/download/0.1.0/yolov7_training_state_dict.pt\n"
     ]
    }
   ],
   "source": [
    "# Defining model \n",
    "best_model = create_yolov7_model('yolov7', num_classes=1)\n",
    "best_model.eval();"
   ]
  },
  {
   "cell_type": "code",
   "execution_count": 32,
   "id": "129b2eb5",
   "metadata": {},
   "outputs": [
    {
     "data": {
      "text/plain": [
       "<All keys matched successfully>"
      ]
     },
     "execution_count": 32,
     "metadata": {},
     "output_type": "execute_result"
    }
   ],
   "source": [
    "# Loading Weights\n",
    "best_model_path= 'C:\\\\Users\\\\endo\\\\Desktop\\\\Yolov7-training-main\\\\Yolov7-training-main\\\\examples\\\\train_scratch_best_model2.pt'\n",
    "checkpoint = torch.load(best_model_path)\n",
    "state_dict = checkpoint['model_state_dict']\n",
    "best_model.load_state_dict(state_dict)"
   ]
  },
  {
   "cell_type": "markdown",
   "id": "c0ce512a",
   "metadata": {},
   "source": [
    "### Running inference on test set and evaluating the performance metrics:"
   ]
  },
  {
   "cell_type": "code",
   "execution_count": 33,
   "id": "4f030f96",
   "metadata": {},
   "outputs": [],
   "source": [
    "def intersection_over_union(boxes_preds, boxes_labels, box_format= \"corners\"):\n",
    "    # (N,4): N--number of bboxes\n",
    "    # boxes_labels shape is (N,4)\n",
    "    \n",
    "    '''Calculates intersection over union\n",
    "    Parameters:\n",
    "        boxes_preds (tensor): Predictions of Bounding Boxes (BATCH_SIZE, 4)\n",
    "        boxes_labels (tensor): Correct Labels of Boxes (BATCH_SIZE, 4)\n",
    "        box_format (str): midpoint/corners, if boxes (x,y,w,h) or (x1,y1,x2,y2)\n",
    "    Returns:\n",
    "        tensor: Intersection over union for all examples\n",
    "        '''       \n",
    "    if box_format == \"corners\":\n",
    "        \n",
    "        #Converting cx,cy,w,h (center_x, center_y,w,h) into (xmin, ymin, xmax, ymax)\n",
    "        \n",
    "#         print(boxes_labels)\n",
    "#         print(boxes_preds)\n",
    "        \n",
    "        center_x= boxes_labels[..., 0:1]\n",
    "        center_y = boxes_labels[..., 1:2] \n",
    "        width = boxes_labels[..., 2:3] \n",
    "        height= boxes_labels[..., 3:4] \n",
    "        new_boxes_labels = torch.zeros_like(boxes_labels) # Initializing the tensor\n",
    "\n",
    "        new_boxes_labels[..., 0:1]= center_x - (width / 2)\n",
    "        new_boxes_labels[..., 1:2]= center_y - (height / 2)\n",
    "        new_boxes_labels[..., 2:3]= center_x + (width / 2)\n",
    "        new_boxes_labels[..., 3:4]= center_y + (height / 2)        \n",
    "        \n",
    "        \n",
    "        pred_xmin= boxes_preds[..., 0:1]\n",
    "        pred_ymin= boxes_preds[..., 1:2]\n",
    "        pred_xmax= boxes_preds[..., 2:3]\n",
    "        pred_ymax= boxes_preds[..., 3:4]\n",
    "\n",
    "        label_xmin= new_boxes_labels[..., 0:1]\n",
    "        label_ymin= new_boxes_labels[..., 1:2]\n",
    "        label_xmax= new_boxes_labels[..., 2:3]\n",
    "        label_ymax= new_boxes_labels[..., 3:4]\n",
    "\n",
    "    inter_area = max(0, min(pred_xmax, label_xmax) - max(pred_xmin, label_xmin)) * \\\n",
    "             max(0, min(pred_ymax, label_ymax) - max(pred_ymin, label_ymin))\n",
    "\n",
    "    pred_area = (pred_xmax - pred_xmin) * (pred_ymax - pred_ymin)\n",
    "    label_area = (label_xmax - label_xmin) * (label_ymax - label_ymin)\n",
    "    union_area = pred_area + label_area - inter_area\n",
    "\n",
    "    iou = inter_area / union_area\n",
    "    conf= boxes_preds[...,4:5]\n",
    "    return iou, conf\n",
    "        "
   ]
  },
  {
   "cell_type": "code",
   "execution_count": 34,
   "id": "81629d6f",
   "metadata": {},
   "outputs": [
    {
     "name": "stderr",
     "output_type": "stream",
     "text": [
      "C:\\Users\\endo\\anaconda3\\envs\\yolov7_custon\\lib\\site-packages\\torch\\functional.py:568: UserWarning: torch.meshgrid: in an upcoming release, it will be required to pass the indexing argument. (Triggered internally at  C:\\actions-runner\\_work\\pytorch\\pytorch\\builder\\windows\\pytorch\\aten\\src\\ATen\\native\\TensorShape.cpp:2228.)\n",
      "  return _VF.meshgrid(tensors, **kwargs)  # type: ignore[attr-defined]\n"
     ]
    }
   ],
   "source": [
    "# Validation Image\n",
    "df_list=[]\n",
    "iou_thres= 0.5\n",
    "for i in range(len(test_df)):\n",
    "    \n",
    "    # Taking a test image\n",
    "    image_tensor, labels, image_id, image_size = test_yds[i]\n",
    "    boxes_labels = labels[:, 2:]\n",
    "    boxes_labels[:, [0, 2]] *= target_image_size\n",
    "    boxes_labels[:, [1, 3]] *= target_image_size\n",
    "    \n",
    "    # Predicting \n",
    "    with torch.no_grad():\n",
    "        model_outputs = best_model(image_tensor[None])\n",
    "        preds = best_model.postprocess(model_outputs, conf_thres=0., multiple_labels_per_box=False)  \n",
    "        \n",
    "    # This has the bounding boxes with confidence and class label\n",
    "    nms_predictions = filter_eval_predictions(preds, confidence_threshold=0.1)\n",
    "    data= {'image_id':[],'gt_flag':[],'pd_flag':[], 'confidence':[], 'iou':[], 'tp':[], 'fp':[], 'fn':[], 'tn':[]}\n",
    "    \n",
    "    \n",
    "    # Chec if the Ground Truth Bbox is available:\n",
    "    if boxes_labels.numel()==0:\n",
    "        # Now check if Predicted Bounding boxes are zero or any got predicted:\n",
    "        if nms_predictions[0].numel()==0:\n",
    "#             print(\" We dont care about this case\")\n",
    "            data['image_id']= image_id.tolist()\n",
    "            data['gt_flag'].append(1)\n",
    "            data['pd_flag'].append(1)\n",
    "            data['confidence'].append(np.nan)\n",
    "            data['iou'].append(np.nan)\n",
    "            data['tp'].append(np.nan)\n",
    "            data['fn'].append(np.nan)\n",
    "            data['fp'].append(np.nan)\n",
    "            data['tn'].append(1)\n",
    "        elif nms_predictions[0].numel()!=0:\n",
    "            data['image_id']= image_id.tolist()\n",
    "            data['gt_flag'].append(1)\n",
    "            data['pd_flag'].append(0)\n",
    "            data['confidence'].append(np.nan)\n",
    "            data['iou'].append(np.nan)\n",
    "            data['tp'].append(np.nan)\n",
    "            data['fn'].append(np.nan)\n",
    "            data['fp'].append(1)\n",
    "            data['tn'].append(np.nan)\n",
    "    # this is when the ground truth bounding box is available:\n",
    "    else:\n",
    "        # Now we chck if the prediction are done or not:\n",
    "        # Checking if there are no predictions:\n",
    "        if nms_predictions[0].numel()==0:\n",
    "            data['image_id']= image_id.tolist()\n",
    "            data['gt_flag'].append(0)\n",
    "            data['pd_flag'].append(1)\n",
    "            data['confidence'].append(np.nan)\n",
    "            data['iou'].append(np.nan)\n",
    "            data['tp'].append(np.nan)\n",
    "            data['fn'].append(1)\n",
    "            data['fp'].append(np.nan)\n",
    "            data['tn'].append(np.nan)\n",
    "        # Checking ig the prediction is done\n",
    "        elif nms_predictions[0].numel()!=0:\n",
    "            # In this case we check for IOU:\n",
    "            # First we check of the number of predictions are 1 or more:\n",
    "#             my_iou_list=[]\n",
    "#             confidence= []\n",
    "            \n",
    "            if len(nms_predictions[0])>1:\n",
    "                for j in range(len(nms_predictions[0])):\n",
    "                    my_iou, conf= intersection_over_union(nms_predictions[0][j], boxes_labels, box_format= \"corners\")\n",
    "#                     print(conf)\n",
    "                    if my_iou> iou_thres:\n",
    "                        data['image_id']= image_id.tolist()\n",
    "                        data['gt_flag'].append(0)\n",
    "                        data['pd_flag'].append(0)\n",
    "                        data['confidence'].append(conf[0].tolist())\n",
    "                        data['iou'].append(my_iou[0][0].tolist())\n",
    "                        data['tp'].append(1)\n",
    "                        data['fn'].append(np.nan)\n",
    "                        data['fp'].append(np.nan)\n",
    "                        data['tn'].append(np.nan)\n",
    "                    else:\n",
    "                        data['image_id']= image_id.tolist()\n",
    "                        data['gt_flag'].append(0)\n",
    "                        data['pd_flag'].append(0)\n",
    "                        data['confidence'].append(conf[0].tolist())\n",
    "                        data['iou'].append(my_iou[0][0].tolist())\n",
    "                        data['tp'].append(np.nan)\n",
    "                        data['fn'].append(np.nan)\n",
    "                        data['fp'].append(1)\n",
    "                        data['tn'].append(np.nan)\n",
    "                        \n",
    "#                     my_iou_list.append(my_iou)\n",
    "#                     confidence.append(conf)\n",
    "                \n",
    "            else:\n",
    "                \n",
    "                my_iou, conf= intersection_over_union(nms_predictions[0], boxes_labels, box_format= \"corners\")\n",
    "                \n",
    "#                 print(conf)\n",
    "                \n",
    "                if my_iou> iou_thres:\n",
    "                    data['image_id']= image_id.tolist()\n",
    "                    data['gt_flag'].append(0)\n",
    "                    data['pd_flag'].append(0)\n",
    "                    data['confidence'].append(conf[0][0].tolist())\n",
    "                    data['iou'].append(my_iou[0][0].tolist())\n",
    "                    data['tp'].append(1)\n",
    "                    data['fn'].append(np.nan)\n",
    "                    data['fp'].append(np.nan)\n",
    "                    data['tn'].append(np.nan)\n",
    "                else:\n",
    "                    data['image_id']= image_id.tolist()\n",
    "                    data['gt_flag'].append(0)\n",
    "                    data['pd_flag'].append(0)\n",
    "                    data['confidence'].append(conf[0][0].tolist())\n",
    "                    data['iou'].append(my_iou[0][0].tolist())\n",
    "                    data['tp'].append(np.nan)\n",
    "                    data['fn'].append(np.nan)\n",
    "                    data['fp'].append(1)\n",
    "                    data['tn'].append(np.nan)\n",
    "#                 my_iou_list.append(my_iou)\n",
    "#                 confidence.append(conf)\n",
    "\n",
    "    df= pd.DataFrame(data)\n",
    "#     display(df)\n",
    "    df_list.append(df)\n",
    "#     break"
   ]
  },
  {
   "cell_type": "code",
   "execution_count": 35,
   "id": "3e5e9938",
   "metadata": {},
   "outputs": [
    {
     "data": {
      "text/plain": [
       "{'image_id': 226720,\n",
       " 'gt_flag': [1],\n",
       " 'pd_flag': [0],\n",
       " 'confidence': [nan],\n",
       " 'iou': [nan],\n",
       " 'tp': [nan],\n",
       " 'fp': [1],\n",
       " 'fn': [nan],\n",
       " 'tn': [nan]}"
      ]
     },
     "execution_count": 35,
     "metadata": {},
     "output_type": "execute_result"
    }
   ],
   "source": [
    "data"
   ]
  },
  {
   "cell_type": "code",
   "execution_count": 36,
   "id": "f9a1b05a",
   "metadata": {},
   "outputs": [],
   "source": [
    "final_df= pd.concat(df_list).reset_index().drop(columns='index')"
   ]
  },
  {
   "cell_type": "code",
   "execution_count": 37,
   "id": "ff75f3f8",
   "metadata": {},
   "outputs": [
    {
     "data": {
      "text/plain": [
       "156"
      ]
     },
     "execution_count": 37,
     "metadata": {},
     "output_type": "execute_result"
    }
   ],
   "source": [
    "test_df.image_id.nunique()"
   ]
  },
  {
   "cell_type": "code",
   "execution_count": 38,
   "id": "bb930a35",
   "metadata": {},
   "outputs": [
    {
     "data": {
      "text/plain": [
       "156"
      ]
     },
     "execution_count": 38,
     "metadata": {},
     "output_type": "execute_result"
    }
   ],
   "source": [
    "final_df.image_id.nunique()"
   ]
  },
  {
   "cell_type": "code",
   "execution_count": 39,
   "id": "769446f9",
   "metadata": {},
   "outputs": [
    {
     "data": {
      "text/html": [
       "<div>\n",
       "<style scoped>\n",
       "    .dataframe tbody tr th:only-of-type {\n",
       "        vertical-align: middle;\n",
       "    }\n",
       "\n",
       "    .dataframe tbody tr th {\n",
       "        vertical-align: top;\n",
       "    }\n",
       "\n",
       "    .dataframe thead th {\n",
       "        text-align: right;\n",
       "    }\n",
       "</style>\n",
       "<table border=\"1\" class=\"dataframe\">\n",
       "  <thead>\n",
       "    <tr style=\"text-align: right;\">\n",
       "      <th></th>\n",
       "      <th>image_id</th>\n",
       "      <th>gt_flag</th>\n",
       "      <th>pd_flag</th>\n",
       "      <th>confidence</th>\n",
       "      <th>iou</th>\n",
       "      <th>tp</th>\n",
       "      <th>fp</th>\n",
       "      <th>fn</th>\n",
       "      <th>tn</th>\n",
       "    </tr>\n",
       "  </thead>\n",
       "  <tbody>\n",
       "    <tr>\n",
       "      <th>0</th>\n",
       "      <td>226757</td>\n",
       "      <td>1</td>\n",
       "      <td>1</td>\n",
       "      <td>NaN</td>\n",
       "      <td>NaN</td>\n",
       "      <td>NaN</td>\n",
       "      <td>NaN</td>\n",
       "      <td>NaN</td>\n",
       "      <td>1.0</td>\n",
       "    </tr>\n",
       "    <tr>\n",
       "      <th>1</th>\n",
       "      <td>227100</td>\n",
       "      <td>0</td>\n",
       "      <td>1</td>\n",
       "      <td>NaN</td>\n",
       "      <td>NaN</td>\n",
       "      <td>NaN</td>\n",
       "      <td>NaN</td>\n",
       "      <td>1.0</td>\n",
       "      <td>NaN</td>\n",
       "    </tr>\n",
       "    <tr>\n",
       "      <th>2</th>\n",
       "      <td>227119</td>\n",
       "      <td>0</td>\n",
       "      <td>0</td>\n",
       "      <td>0.766513</td>\n",
       "      <td>0.623717</td>\n",
       "      <td>1.0</td>\n",
       "      <td>NaN</td>\n",
       "      <td>NaN</td>\n",
       "      <td>NaN</td>\n",
       "    </tr>\n",
       "    <tr>\n",
       "      <th>3</th>\n",
       "      <td>227119</td>\n",
       "      <td>0</td>\n",
       "      <td>0</td>\n",
       "      <td>0.362895</td>\n",
       "      <td>0.392403</td>\n",
       "      <td>NaN</td>\n",
       "      <td>1.0</td>\n",
       "      <td>NaN</td>\n",
       "      <td>NaN</td>\n",
       "    </tr>\n",
       "    <tr>\n",
       "      <th>4</th>\n",
       "      <td>227119</td>\n",
       "      <td>0</td>\n",
       "      <td>0</td>\n",
       "      <td>0.124941</td>\n",
       "      <td>0.505912</td>\n",
       "      <td>1.0</td>\n",
       "      <td>NaN</td>\n",
       "      <td>NaN</td>\n",
       "      <td>NaN</td>\n",
       "    </tr>\n",
       "    <tr>\n",
       "      <th>...</th>\n",
       "      <td>...</td>\n",
       "      <td>...</td>\n",
       "      <td>...</td>\n",
       "      <td>...</td>\n",
       "      <td>...</td>\n",
       "      <td>...</td>\n",
       "      <td>...</td>\n",
       "      <td>...</td>\n",
       "      <td>...</td>\n",
       "    </tr>\n",
       "    <tr>\n",
       "      <th>338</th>\n",
       "      <td>226623</td>\n",
       "      <td>0</td>\n",
       "      <td>0</td>\n",
       "      <td>0.124448</td>\n",
       "      <td>0.658996</td>\n",
       "      <td>1.0</td>\n",
       "      <td>NaN</td>\n",
       "      <td>NaN</td>\n",
       "      <td>NaN</td>\n",
       "    </tr>\n",
       "    <tr>\n",
       "      <th>339</th>\n",
       "      <td>226339</td>\n",
       "      <td>0</td>\n",
       "      <td>0</td>\n",
       "      <td>0.891160</td>\n",
       "      <td>0.731925</td>\n",
       "      <td>1.0</td>\n",
       "      <td>NaN</td>\n",
       "      <td>NaN</td>\n",
       "      <td>NaN</td>\n",
       "    </tr>\n",
       "    <tr>\n",
       "      <th>340</th>\n",
       "      <td>226339</td>\n",
       "      <td>0</td>\n",
       "      <td>0</td>\n",
       "      <td>0.656981</td>\n",
       "      <td>0.684073</td>\n",
       "      <td>1.0</td>\n",
       "      <td>NaN</td>\n",
       "      <td>NaN</td>\n",
       "      <td>NaN</td>\n",
       "    </tr>\n",
       "    <tr>\n",
       "      <th>341</th>\n",
       "      <td>226339</td>\n",
       "      <td>0</td>\n",
       "      <td>0</td>\n",
       "      <td>0.203273</td>\n",
       "      <td>0.494108</td>\n",
       "      <td>NaN</td>\n",
       "      <td>1.0</td>\n",
       "      <td>NaN</td>\n",
       "      <td>NaN</td>\n",
       "    </tr>\n",
       "    <tr>\n",
       "      <th>342</th>\n",
       "      <td>226720</td>\n",
       "      <td>1</td>\n",
       "      <td>0</td>\n",
       "      <td>NaN</td>\n",
       "      <td>NaN</td>\n",
       "      <td>NaN</td>\n",
       "      <td>1.0</td>\n",
       "      <td>NaN</td>\n",
       "      <td>NaN</td>\n",
       "    </tr>\n",
       "  </tbody>\n",
       "</table>\n",
       "<p>343 rows × 9 columns</p>\n",
       "</div>"
      ],
      "text/plain": [
       "     image_id  gt_flag  pd_flag  confidence       iou   tp   fp   fn   tn\n",
       "0      226757        1        1         NaN       NaN  NaN  NaN  NaN  1.0\n",
       "1      227100        0        1         NaN       NaN  NaN  NaN  1.0  NaN\n",
       "2      227119        0        0    0.766513  0.623717  1.0  NaN  NaN  NaN\n",
       "3      227119        0        0    0.362895  0.392403  NaN  1.0  NaN  NaN\n",
       "4      227119        0        0    0.124941  0.505912  1.0  NaN  NaN  NaN\n",
       "..        ...      ...      ...         ...       ...  ...  ...  ...  ...\n",
       "338    226623        0        0    0.124448  0.658996  1.0  NaN  NaN  NaN\n",
       "339    226339        0        0    0.891160  0.731925  1.0  NaN  NaN  NaN\n",
       "340    226339        0        0    0.656981  0.684073  1.0  NaN  NaN  NaN\n",
       "341    226339        0        0    0.203273  0.494108  NaN  1.0  NaN  NaN\n",
       "342    226720        1        0         NaN       NaN  NaN  1.0  NaN  NaN\n",
       "\n",
       "[343 rows x 9 columns]"
      ]
     },
     "execution_count": 39,
     "metadata": {},
     "output_type": "execute_result"
    }
   ],
   "source": [
    "final_df"
   ]
  },
  {
   "cell_type": "code",
   "execution_count": 40,
   "id": "855ec8a1",
   "metadata": {},
   "outputs": [],
   "source": [
    "final_df_sort= final_df.sort_values('confidence', ascending=False).reset_index().drop(columns='index')"
   ]
  },
  {
   "cell_type": "code",
   "execution_count": 41,
   "id": "68f7b475",
   "metadata": {},
   "outputs": [
    {
     "data": {
      "text/html": [
       "<div>\n",
       "<style scoped>\n",
       "    .dataframe tbody tr th:only-of-type {\n",
       "        vertical-align: middle;\n",
       "    }\n",
       "\n",
       "    .dataframe tbody tr th {\n",
       "        vertical-align: top;\n",
       "    }\n",
       "\n",
       "    .dataframe thead th {\n",
       "        text-align: right;\n",
       "    }\n",
       "</style>\n",
       "<table border=\"1\" class=\"dataframe\">\n",
       "  <thead>\n",
       "    <tr style=\"text-align: right;\">\n",
       "      <th></th>\n",
       "      <th>image_id</th>\n",
       "      <th>gt_flag</th>\n",
       "      <th>pd_flag</th>\n",
       "      <th>confidence</th>\n",
       "      <th>iou</th>\n",
       "      <th>tp</th>\n",
       "      <th>fp</th>\n",
       "      <th>fn</th>\n",
       "      <th>tn</th>\n",
       "    </tr>\n",
       "  </thead>\n",
       "  <tbody>\n",
       "    <tr>\n",
       "      <th>0</th>\n",
       "      <td>226376</td>\n",
       "      <td>0</td>\n",
       "      <td>0</td>\n",
       "      <td>0.970579</td>\n",
       "      <td>0.931755</td>\n",
       "      <td>1.0</td>\n",
       "      <td>NaN</td>\n",
       "      <td>NaN</td>\n",
       "      <td>NaN</td>\n",
       "    </tr>\n",
       "    <tr>\n",
       "      <th>1</th>\n",
       "      <td>227132</td>\n",
       "      <td>0</td>\n",
       "      <td>0</td>\n",
       "      <td>0.947109</td>\n",
       "      <td>0.880324</td>\n",
       "      <td>1.0</td>\n",
       "      <td>NaN</td>\n",
       "      <td>NaN</td>\n",
       "      <td>NaN</td>\n",
       "    </tr>\n",
       "    <tr>\n",
       "      <th>2</th>\n",
       "      <td>226372</td>\n",
       "      <td>0</td>\n",
       "      <td>0</td>\n",
       "      <td>0.945899</td>\n",
       "      <td>0.844908</td>\n",
       "      <td>1.0</td>\n",
       "      <td>NaN</td>\n",
       "      <td>NaN</td>\n",
       "      <td>NaN</td>\n",
       "    </tr>\n",
       "    <tr>\n",
       "      <th>3</th>\n",
       "      <td>226653</td>\n",
       "      <td>0</td>\n",
       "      <td>0</td>\n",
       "      <td>0.945196</td>\n",
       "      <td>0.893873</td>\n",
       "      <td>1.0</td>\n",
       "      <td>NaN</td>\n",
       "      <td>NaN</td>\n",
       "      <td>NaN</td>\n",
       "    </tr>\n",
       "    <tr>\n",
       "      <th>4</th>\n",
       "      <td>227279</td>\n",
       "      <td>0</td>\n",
       "      <td>0</td>\n",
       "      <td>0.941632</td>\n",
       "      <td>0.841578</td>\n",
       "      <td>1.0</td>\n",
       "      <td>NaN</td>\n",
       "      <td>NaN</td>\n",
       "      <td>NaN</td>\n",
       "    </tr>\n",
       "  </tbody>\n",
       "</table>\n",
       "</div>"
      ],
      "text/plain": [
       "   image_id  gt_flag  pd_flag  confidence       iou   tp  fp  fn  tn\n",
       "0    226376        0        0    0.970579  0.931755  1.0 NaN NaN NaN\n",
       "1    227132        0        0    0.947109  0.880324  1.0 NaN NaN NaN\n",
       "2    226372        0        0    0.945899  0.844908  1.0 NaN NaN NaN\n",
       "3    226653        0        0    0.945196  0.893873  1.0 NaN NaN NaN\n",
       "4    227279        0        0    0.941632  0.841578  1.0 NaN NaN NaN"
      ]
     },
     "execution_count": 41,
     "metadata": {},
     "output_type": "execute_result"
    }
   ],
   "source": [
    "final_df_sort.head()"
   ]
  },
  {
   "cell_type": "code",
   "execution_count": 42,
   "id": "546a3a91",
   "metadata": {},
   "outputs": [],
   "source": [
    "final_df_sort['tp_fp_fn'] = np.where((final_df_sort['tp'] ==1.0) , 'TP', \n",
    "                        np.where((final_df_sort['fp'] ==1.0) , 'FP', \n",
    "                                 np.where((final_df_sort['tn'] ==1.0) , 'TN',\n",
    "                                          np.where((final_df_sort['fn'] ==1.0) , 'FN', np.nan))))\n",
    "\n",
    "###############################################\n",
    "\n",
    "final_df_sort['tp'] = final_df_sort['tp_fp_fn'].apply(lambda x: 1 if x == 'TP' else 0)\n",
    "final_df_sort['fp'] = final_df_sort['tp_fp_fn'].apply(lambda x: 1 if x == 'FP' else 0)\n",
    "final_df_sort['fn'] = final_df_sort['tp_fp_fn'].apply(lambda x: 1 if x == 'FN' else 0)\n",
    "final_df_sort['tn'] = final_df_sort['tp_fp_fn'].apply(lambda x: 1 if x == 'TN' else 0)\n"
   ]
  },
  {
   "cell_type": "code",
   "execution_count": 43,
   "id": "00fc30f2",
   "metadata": {},
   "outputs": [
    {
     "data": {
      "text/html": [
       "<div>\n",
       "<style scoped>\n",
       "    .dataframe tbody tr th:only-of-type {\n",
       "        vertical-align: middle;\n",
       "    }\n",
       "\n",
       "    .dataframe tbody tr th {\n",
       "        vertical-align: top;\n",
       "    }\n",
       "\n",
       "    .dataframe thead th {\n",
       "        text-align: right;\n",
       "    }\n",
       "</style>\n",
       "<table border=\"1\" class=\"dataframe\">\n",
       "  <thead>\n",
       "    <tr style=\"text-align: right;\">\n",
       "      <th></th>\n",
       "      <th>image_id</th>\n",
       "      <th>gt_flag</th>\n",
       "      <th>pd_flag</th>\n",
       "      <th>confidence</th>\n",
       "      <th>iou</th>\n",
       "      <th>tp</th>\n",
       "      <th>fp</th>\n",
       "      <th>fn</th>\n",
       "      <th>tn</th>\n",
       "      <th>tp_fp_fn</th>\n",
       "    </tr>\n",
       "  </thead>\n",
       "  <tbody>\n",
       "    <tr>\n",
       "      <th>0</th>\n",
       "      <td>226376</td>\n",
       "      <td>0</td>\n",
       "      <td>0</td>\n",
       "      <td>0.970579</td>\n",
       "      <td>0.931755</td>\n",
       "      <td>1</td>\n",
       "      <td>0</td>\n",
       "      <td>0</td>\n",
       "      <td>0</td>\n",
       "      <td>TP</td>\n",
       "    </tr>\n",
       "    <tr>\n",
       "      <th>1</th>\n",
       "      <td>227132</td>\n",
       "      <td>0</td>\n",
       "      <td>0</td>\n",
       "      <td>0.947109</td>\n",
       "      <td>0.880324</td>\n",
       "      <td>1</td>\n",
       "      <td>0</td>\n",
       "      <td>0</td>\n",
       "      <td>0</td>\n",
       "      <td>TP</td>\n",
       "    </tr>\n",
       "    <tr>\n",
       "      <th>2</th>\n",
       "      <td>226372</td>\n",
       "      <td>0</td>\n",
       "      <td>0</td>\n",
       "      <td>0.945899</td>\n",
       "      <td>0.844908</td>\n",
       "      <td>1</td>\n",
       "      <td>0</td>\n",
       "      <td>0</td>\n",
       "      <td>0</td>\n",
       "      <td>TP</td>\n",
       "    </tr>\n",
       "    <tr>\n",
       "      <th>3</th>\n",
       "      <td>226653</td>\n",
       "      <td>0</td>\n",
       "      <td>0</td>\n",
       "      <td>0.945196</td>\n",
       "      <td>0.893873</td>\n",
       "      <td>1</td>\n",
       "      <td>0</td>\n",
       "      <td>0</td>\n",
       "      <td>0</td>\n",
       "      <td>TP</td>\n",
       "    </tr>\n",
       "    <tr>\n",
       "      <th>4</th>\n",
       "      <td>227279</td>\n",
       "      <td>0</td>\n",
       "      <td>0</td>\n",
       "      <td>0.941632</td>\n",
       "      <td>0.841578</td>\n",
       "      <td>1</td>\n",
       "      <td>0</td>\n",
       "      <td>0</td>\n",
       "      <td>0</td>\n",
       "      <td>TP</td>\n",
       "    </tr>\n",
       "  </tbody>\n",
       "</table>\n",
       "</div>"
      ],
      "text/plain": [
       "   image_id  gt_flag  pd_flag  confidence       iou  tp  fp  fn  tn tp_fp_fn\n",
       "0    226376        0        0    0.970579  0.931755   1   0   0   0       TP\n",
       "1    227132        0        0    0.947109  0.880324   1   0   0   0       TP\n",
       "2    226372        0        0    0.945899  0.844908   1   0   0   0       TP\n",
       "3    226653        0        0    0.945196  0.893873   1   0   0   0       TP\n",
       "4    227279        0        0    0.941632  0.841578   1   0   0   0       TP"
      ]
     },
     "execution_count": 43,
     "metadata": {},
     "output_type": "execute_result"
    }
   ],
   "source": [
    "final_df_sort.head()"
   ]
  },
  {
   "cell_type": "code",
   "execution_count": 44,
   "id": "c4c60c04",
   "metadata": {},
   "outputs": [],
   "source": [
    "from sklearn.metrics import auc\n",
    "\n",
    "tp = np.cumsum(final_df_sort['tp_fp_fn'] == 'TP')\n",
    "fp = np.cumsum(final_df_sort['tp_fp_fn'] == 'FP')\n",
    "fn = np.sum(final_df_sort['tp_fp_fn'] == 'FN')\n",
    "\n",
    "# Calculate precision and recall at each threshold\n",
    "precision = tp / (tp + fp)\n",
    "recall = tp / (tp + fn)\n",
    "\n",
    "final_df_sort['precision']= precision\n",
    "final_df_sort['recall']= recall\n",
    "auc_pr = auc(final_df_sort['recall'], final_df_sort['precision'])\n",
    "\n",
    "# Or can use the:\n",
    "auc= torch.trapz(torch.tensor(final_df_sort['precision'].values), torch.tensor(final_df_sort['recall'].values))\n"
   ]
  },
  {
   "cell_type": "code",
   "execution_count": 45,
   "id": "997b5ac4",
   "metadata": {},
   "outputs": [
    {
     "data": {
      "text/plain": [
       "(0.8588029215974673, tensor(0.8588, dtype=torch.float64))"
      ]
     },
     "execution_count": 45,
     "metadata": {},
     "output_type": "execute_result"
    }
   ],
   "source": [
    "auc_pr, auc"
   ]
  },
  {
   "cell_type": "code",
   "execution_count": 46,
   "id": "d7ecb361",
   "metadata": {},
   "outputs": [
    {
     "data": {
      "text/html": [
       "<div>\n",
       "<style scoped>\n",
       "    .dataframe tbody tr th:only-of-type {\n",
       "        vertical-align: middle;\n",
       "    }\n",
       "\n",
       "    .dataframe tbody tr th {\n",
       "        vertical-align: top;\n",
       "    }\n",
       "\n",
       "    .dataframe thead th {\n",
       "        text-align: right;\n",
       "    }\n",
       "</style>\n",
       "<table border=\"1\" class=\"dataframe\">\n",
       "  <thead>\n",
       "    <tr style=\"text-align: right;\">\n",
       "      <th></th>\n",
       "      <th>image_id</th>\n",
       "      <th>gt_flag</th>\n",
       "      <th>pd_flag</th>\n",
       "      <th>confidence</th>\n",
       "      <th>iou</th>\n",
       "      <th>tp</th>\n",
       "      <th>fp</th>\n",
       "      <th>fn</th>\n",
       "      <th>tn</th>\n",
       "      <th>tp_fp_fn</th>\n",
       "      <th>precision</th>\n",
       "      <th>recall</th>\n",
       "    </tr>\n",
       "  </thead>\n",
       "  <tbody>\n",
       "    <tr>\n",
       "      <th>0</th>\n",
       "      <td>226376</td>\n",
       "      <td>0</td>\n",
       "      <td>0</td>\n",
       "      <td>0.970579</td>\n",
       "      <td>0.931755</td>\n",
       "      <td>1</td>\n",
       "      <td>0</td>\n",
       "      <td>0</td>\n",
       "      <td>0</td>\n",
       "      <td>TP</td>\n",
       "      <td>1.000000</td>\n",
       "      <td>0.083333</td>\n",
       "    </tr>\n",
       "    <tr>\n",
       "      <th>1</th>\n",
       "      <td>227132</td>\n",
       "      <td>0</td>\n",
       "      <td>0</td>\n",
       "      <td>0.947109</td>\n",
       "      <td>0.880324</td>\n",
       "      <td>1</td>\n",
       "      <td>0</td>\n",
       "      <td>0</td>\n",
       "      <td>0</td>\n",
       "      <td>TP</td>\n",
       "      <td>1.000000</td>\n",
       "      <td>0.153846</td>\n",
       "    </tr>\n",
       "    <tr>\n",
       "      <th>2</th>\n",
       "      <td>226372</td>\n",
       "      <td>0</td>\n",
       "      <td>0</td>\n",
       "      <td>0.945899</td>\n",
       "      <td>0.844908</td>\n",
       "      <td>1</td>\n",
       "      <td>0</td>\n",
       "      <td>0</td>\n",
       "      <td>0</td>\n",
       "      <td>TP</td>\n",
       "      <td>1.000000</td>\n",
       "      <td>0.214286</td>\n",
       "    </tr>\n",
       "    <tr>\n",
       "      <th>3</th>\n",
       "      <td>226653</td>\n",
       "      <td>0</td>\n",
       "      <td>0</td>\n",
       "      <td>0.945196</td>\n",
       "      <td>0.893873</td>\n",
       "      <td>1</td>\n",
       "      <td>0</td>\n",
       "      <td>0</td>\n",
       "      <td>0</td>\n",
       "      <td>TP</td>\n",
       "      <td>1.000000</td>\n",
       "      <td>0.266667</td>\n",
       "    </tr>\n",
       "    <tr>\n",
       "      <th>4</th>\n",
       "      <td>227279</td>\n",
       "      <td>0</td>\n",
       "      <td>0</td>\n",
       "      <td>0.941632</td>\n",
       "      <td>0.841578</td>\n",
       "      <td>1</td>\n",
       "      <td>0</td>\n",
       "      <td>0</td>\n",
       "      <td>0</td>\n",
       "      <td>TP</td>\n",
       "      <td>1.000000</td>\n",
       "      <td>0.312500</td>\n",
       "    </tr>\n",
       "    <tr>\n",
       "      <th>...</th>\n",
       "      <td>...</td>\n",
       "      <td>...</td>\n",
       "      <td>...</td>\n",
       "      <td>...</td>\n",
       "      <td>...</td>\n",
       "      <td>...</td>\n",
       "      <td>...</td>\n",
       "      <td>...</td>\n",
       "      <td>...</td>\n",
       "      <td>...</td>\n",
       "      <td>...</td>\n",
       "      <td>...</td>\n",
       "    </tr>\n",
       "    <tr>\n",
       "      <th>338</th>\n",
       "      <td>226973</td>\n",
       "      <td>0</td>\n",
       "      <td>1</td>\n",
       "      <td>NaN</td>\n",
       "      <td>NaN</td>\n",
       "      <td>0</td>\n",
       "      <td>0</td>\n",
       "      <td>1</td>\n",
       "      <td>0</td>\n",
       "      <td>FN</td>\n",
       "      <td>0.701863</td>\n",
       "      <td>0.953586</td>\n",
       "    </tr>\n",
       "    <tr>\n",
       "      <th>339</th>\n",
       "      <td>226863</td>\n",
       "      <td>1</td>\n",
       "      <td>0</td>\n",
       "      <td>NaN</td>\n",
       "      <td>NaN</td>\n",
       "      <td>0</td>\n",
       "      <td>1</td>\n",
       "      <td>0</td>\n",
       "      <td>0</td>\n",
       "      <td>FP</td>\n",
       "      <td>0.699690</td>\n",
       "      <td>0.953586</td>\n",
       "    </tr>\n",
       "    <tr>\n",
       "      <th>340</th>\n",
       "      <td>226614</td>\n",
       "      <td>0</td>\n",
       "      <td>1</td>\n",
       "      <td>NaN</td>\n",
       "      <td>NaN</td>\n",
       "      <td>0</td>\n",
       "      <td>0</td>\n",
       "      <td>1</td>\n",
       "      <td>0</td>\n",
       "      <td>FN</td>\n",
       "      <td>0.699690</td>\n",
       "      <td>0.953586</td>\n",
       "    </tr>\n",
       "    <tr>\n",
       "      <th>341</th>\n",
       "      <td>243879</td>\n",
       "      <td>1</td>\n",
       "      <td>1</td>\n",
       "      <td>NaN</td>\n",
       "      <td>NaN</td>\n",
       "      <td>0</td>\n",
       "      <td>0</td>\n",
       "      <td>0</td>\n",
       "      <td>1</td>\n",
       "      <td>TN</td>\n",
       "      <td>0.699690</td>\n",
       "      <td>0.953586</td>\n",
       "    </tr>\n",
       "    <tr>\n",
       "      <th>342</th>\n",
       "      <td>226720</td>\n",
       "      <td>1</td>\n",
       "      <td>0</td>\n",
       "      <td>NaN</td>\n",
       "      <td>NaN</td>\n",
       "      <td>0</td>\n",
       "      <td>1</td>\n",
       "      <td>0</td>\n",
       "      <td>0</td>\n",
       "      <td>FP</td>\n",
       "      <td>0.697531</td>\n",
       "      <td>0.953586</td>\n",
       "    </tr>\n",
       "  </tbody>\n",
       "</table>\n",
       "<p>343 rows × 12 columns</p>\n",
       "</div>"
      ],
      "text/plain": [
       "     image_id  gt_flag  pd_flag  confidence       iou  tp  fp  fn  tn  \\\n",
       "0      226376        0        0    0.970579  0.931755   1   0   0   0   \n",
       "1      227132        0        0    0.947109  0.880324   1   0   0   0   \n",
       "2      226372        0        0    0.945899  0.844908   1   0   0   0   \n",
       "3      226653        0        0    0.945196  0.893873   1   0   0   0   \n",
       "4      227279        0        0    0.941632  0.841578   1   0   0   0   \n",
       "..        ...      ...      ...         ...       ...  ..  ..  ..  ..   \n",
       "338    226973        0        1         NaN       NaN   0   0   1   0   \n",
       "339    226863        1        0         NaN       NaN   0   1   0   0   \n",
       "340    226614        0        1         NaN       NaN   0   0   1   0   \n",
       "341    243879        1        1         NaN       NaN   0   0   0   1   \n",
       "342    226720        1        0         NaN       NaN   0   1   0   0   \n",
       "\n",
       "    tp_fp_fn  precision    recall  \n",
       "0         TP   1.000000  0.083333  \n",
       "1         TP   1.000000  0.153846  \n",
       "2         TP   1.000000  0.214286  \n",
       "3         TP   1.000000  0.266667  \n",
       "4         TP   1.000000  0.312500  \n",
       "..       ...        ...       ...  \n",
       "338       FN   0.701863  0.953586  \n",
       "339       FP   0.699690  0.953586  \n",
       "340       FN   0.699690  0.953586  \n",
       "341       TN   0.699690  0.953586  \n",
       "342       FP   0.697531  0.953586  \n",
       "\n",
       "[343 rows x 12 columns]"
      ]
     },
     "execution_count": 46,
     "metadata": {},
     "output_type": "execute_result"
    }
   ],
   "source": [
    "final_df_sort"
   ]
  },
  {
   "cell_type": "code",
   "execution_count": 47,
   "id": "3917a178",
   "metadata": {},
   "outputs": [
    {
     "data": {
      "text/plain": [
       "Text(0, 0.5, 'Precision')"
      ]
     },
     "execution_count": 47,
     "metadata": {},
     "output_type": "execute_result"
    },
    {
     "data": {
      "image/png": "[encoded data removed]",
      "text/plain": [
       "<Figure size 640x480 with 1 Axes>"
      ]
     },
     "metadata": {},
     "output_type": "display_data"
    }
   ],
   "source": [
    "plt.plot(final_df_sort['recall'], final_df_sort['precision'])\n",
    "plt.title('Precision vs Recall Curve')\n",
    "plt.xlabel('Recall')\n",
    "plt.ylabel('Precision')"
   ]
  },
  {
   "cell_type": "code",
   "execution_count": 48,
   "id": "0c2ff7c5",
   "metadata": {},
   "outputs": [
    {
     "data": {
      "text/plain": [
       "tensor(0.8588, dtype=torch.float64)"
      ]
     },
     "execution_count": 48,
     "metadata": {},
     "output_type": "execute_result"
    }
   ],
   "source": [
    "auc"
   ]
  },
  {
   "cell_type": "code",
   "execution_count": 49,
   "id": "e831921b",
   "metadata": {},
   "outputs": [
    {
     "data": {
      "text/plain": [
       "'C:\\\\Users\\\\endo\\\\Desktop\\\\Yolov7-training-main\\\\Yolov7-training-main\\\\examples'"
      ]
     },
     "execution_count": 49,
     "metadata": {},
     "output_type": "execute_result"
    }
   ],
   "source": [
    "os.getcwd()"
   ]
  },
  {
   "cell_type": "code",
   "execution_count": 50,
   "id": "b556892b",
   "metadata": {},
   "outputs": [
    {
     "data": {
      "text/html": [
       "<div>\n",
       "<style scoped>\n",
       "    .dataframe tbody tr th:only-of-type {\n",
       "        vertical-align: middle;\n",
       "    }\n",
       "\n",
       "    .dataframe tbody tr th {\n",
       "        vertical-align: top;\n",
       "    }\n",
       "\n",
       "    .dataframe thead th {\n",
       "        text-align: right;\n",
       "    }\n",
       "</style>\n",
       "<table border=\"1\" class=\"dataframe\">\n",
       "  <thead>\n",
       "    <tr style=\"text-align: right;\">\n",
       "      <th></th>\n",
       "      <th>image_id</th>\n",
       "      <th>tp_fp_fn</th>\n",
       "    </tr>\n",
       "  </thead>\n",
       "  <tbody>\n",
       "    <tr>\n",
       "      <th>0</th>\n",
       "      <td>226376</td>\n",
       "      <td>TP</td>\n",
       "    </tr>\n",
       "    <tr>\n",
       "      <th>1</th>\n",
       "      <td>227132</td>\n",
       "      <td>TP</td>\n",
       "    </tr>\n",
       "    <tr>\n",
       "      <th>2</th>\n",
       "      <td>226372</td>\n",
       "      <td>TP</td>\n",
       "    </tr>\n",
       "    <tr>\n",
       "      <th>3</th>\n",
       "      <td>226653</td>\n",
       "      <td>TP</td>\n",
       "    </tr>\n",
       "    <tr>\n",
       "      <th>4</th>\n",
       "      <td>227279</td>\n",
       "      <td>TP</td>\n",
       "    </tr>\n",
       "    <tr>\n",
       "      <th>...</th>\n",
       "      <td>...</td>\n",
       "      <td>...</td>\n",
       "    </tr>\n",
       "    <tr>\n",
       "      <th>338</th>\n",
       "      <td>226973</td>\n",
       "      <td>FN</td>\n",
       "    </tr>\n",
       "    <tr>\n",
       "      <th>339</th>\n",
       "      <td>226863</td>\n",
       "      <td>FP</td>\n",
       "    </tr>\n",
       "    <tr>\n",
       "      <th>340</th>\n",
       "      <td>226614</td>\n",
       "      <td>FN</td>\n",
       "    </tr>\n",
       "    <tr>\n",
       "      <th>341</th>\n",
       "      <td>243879</td>\n",
       "      <td>TN</td>\n",
       "    </tr>\n",
       "    <tr>\n",
       "      <th>342</th>\n",
       "      <td>226720</td>\n",
       "      <td>FP</td>\n",
       "    </tr>\n",
       "  </tbody>\n",
       "</table>\n",
       "<p>343 rows × 2 columns</p>\n",
       "</div>"
      ],
      "text/plain": [
       "     image_id tp_fp_fn\n",
       "0      226376       TP\n",
       "1      227132       TP\n",
       "2      226372       TP\n",
       "3      226653       TP\n",
       "4      227279       TP\n",
       "..        ...      ...\n",
       "338    226973       FN\n",
       "339    226863       FP\n",
       "340    226614       FN\n",
       "341    243879       TN\n",
       "342    226720       FP\n",
       "\n",
       "[343 rows x 2 columns]"
      ]
     },
     "execution_count": 50,
     "metadata": {},
     "output_type": "execute_result"
    }
   ],
   "source": [
    "final_df_sort[['image_id', 'tp_fp_fn']]"
   ]
  },
  {
   "cell_type": "code",
   "execution_count": 51,
   "id": "316206c1",
   "metadata": {},
   "outputs": [],
   "source": [
    "TP = len(final_df_sort[final_df_sort['tp_fp_fn'] == 'TP'])\n",
    "FP = len(final_df_sort[final_df_sort['tp_fp_fn'] == 'FP'])\n",
    "FN = len(final_df_sort[final_df_sort['tp_fp_fn'] == 'FN'])\n",
    "TN = len(final_df_sort[final_df_sort['tp_fp_fn'] == 'TN'])\n"
   ]
  },
  {
   "cell_type": "code",
   "execution_count": 52,
   "id": "5288f1ee",
   "metadata": {},
   "outputs": [
    {
     "data": {
      "text/plain": [
       "array([[226,  98],\n",
       "       [ 11,   8]])"
      ]
     },
     "execution_count": 52,
     "metadata": {},
     "output_type": "execute_result"
    }
   ],
   "source": [
    "confusion_matrix = np.array([[TP, FP], [FN, TN]])\n",
    "confusion_matrix"
   ]
  },
  {
   "cell_type": "code",
   "execution_count": null,
   "id": "4ee6cf93",
   "metadata": {},
   "outputs": [],
   "source": []
  },
  {
   "cell_type": "markdown",
   "id": "bb939c88",
   "metadata": {},
   "source": [
    "## mAP using: COCOMeanAveragePrecision() object"
   ]
  },
  {
   "cell_type": "code",
   "execution_count": 53,
   "id": "4fa5a16e",
   "metadata": {},
   "outputs": [
    {
     "ename": "TypeError",
     "evalue": "'ellipsis' object is not iterable",
     "output_type": "error",
     "traceback": [
      "\u001b[1;31m---------------------------------------------------------------------------\u001b[0m",
      "\u001b[1;31mTypeError\u001b[0m                                 Traceback (most recent call last)",
      "Cell \u001b[1;32mIn[53], line 8\u001b[0m\n\u001b[0;32m      6\u001b[0m predictions \u001b[38;5;241m=\u001b[39m []\n\u001b[0;32m      7\u001b[0m targets \u001b[38;5;241m=\u001b[39m []\n\u001b[1;32m----> 8\u001b[0m \u001b[38;5;28;01mfor\u001b[39;00m batch \u001b[38;5;129;01min\u001b[39;00m test_loader:\n\u001b[0;32m      9\u001b[0m     inputs \u001b[38;5;241m=\u001b[39m batch[\u001b[38;5;124m\"\u001b[39m\u001b[38;5;124mimage\u001b[39m\u001b[38;5;124m\"\u001b[39m]\n\u001b[0;32m     10\u001b[0m     targets\u001b[38;5;241m.\u001b[39mappend(batch[\u001b[38;5;124m\"\u001b[39m\u001b[38;5;124mtargets\u001b[39m\u001b[38;5;124m\"\u001b[39m])\n",
      "\u001b[1;31mTypeError\u001b[0m: 'ellipsis' object is not iterable"
     ]
    }
   ],
   "source": [
    "# # Assuming you have loaded the test dataset and the trained model\n",
    "# test_loader = ...\n",
    "# model = ...\n",
    "\n",
    "# # Evaluate the model on the test data\n",
    "# predictions = []\n",
    "# targets = []\n",
    "# for batch in test_loader:\n",
    "#     inputs = batch[\"image\"]\n",
    "#     targets.append(batch[\"targets\"])\n",
    "#     with torch.no_grad():\n",
    "#         outputs = model(inputs)\n",
    "#     predictions.append(outputs)\n",
    "\n",
    "# # Concatenate the predictions and targets\n",
    "# predictions = torch.cat(predictions)\n",
    "# targets = torch.cat(targets)\n",
    "\n",
    "# # Convert the predictions and targets to dataframes\n",
    "# preds_df = pd.DataFrame(\n",
    "#     predictions.cpu().numpy(),\n",
    "#     columns=[\n",
    "#         \"xmin\",\n",
    "#         \"ymin\",\n",
    "#         \"xmax\",\n",
    "#         \"ymax\",\n",
    "#         \"score\",\n",
    "#         \"class_id\",\n",
    "#         \"image_id\",\n",
    "#     ],\n",
    "# )\n",
    "# targets_df = pd.DataFrame(\n",
    "#     targets.cpu().numpy(),\n",
    "#     columns=[\"image_id\", \"xmin\", \"ymin\", \"xmax\", \"ymax\", \"class_id\"],\n",
    "# )\n",
    "\n",
    "# # Compute the mAP using COCOMeanAveragePrecision\n",
    "# evaluator = COCOMeanAveragePrecision()\n",
    "# map_ = evaluator.compute(targets_df, preds_df)\n",
    "\n",
    "# print(f\"mAP: {map_}\")\n"
   ]
  }
 ],
 "metadata": {
  "kernelspec": {
   "display_name": "yolov7_custon",
   "language": "python",
   "name": "yolov7_custon"
  },
  "language_info": {
   "codemirror_mode": {
    "name": "ipython",
    "version": 3
   },
   "file_extension": ".py",
   "mimetype": "text/x-python",
   "name": "python",
   "nbconvert_exporter": "python",
   "pygments_lexer": "ipython3",
   "version": "3.9.16"
  }
 },
 "nbformat": 4,
 "nbformat_minor": 5
}
